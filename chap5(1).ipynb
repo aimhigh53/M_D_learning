{
 "cells": [
  {
   "cell_type": "markdown",
   "metadata": {},
   "source": [
    "# Backpropagation\n",
    "\n",
    "시간이 오래걸리는 수치 미분을 사용하는 것이 아닌, 가중치 매개변수의 기울기를 효율적으로 계산하는 방법인 '오차역전파법backpropagation'을 사용해보자\n",
    "\n",
    "\n"
   ]
  },
  {
   "cell_type": "markdown",
   "metadata": {},
   "source": [
    "backpropagation\n",
    "\n",
    "1.계산 그래프 \n",
    "\n",
    "2.수식\n"
   ]
  },
  {
   "cell_type": "markdown",
   "metadata": {},
   "source": [
    "### 1.계산 그래프\n",
    "\n",
    "계산 과정을 그래프로 나타낸 것이다.(그래프:자료구조, 복수의 node와 edge로 표현)\n",
    "\n",
    "1.계산 그래프를 구성한다.\n",
    "\n",
    "2.그래프에서 계산을 왼쪽에서 오른쪽으로 진행한다.\n",
    "\n",
    "여기서 '계산을 왼쪽에서 오른쪽으로 진행'하는 단계를 순전파라고한다.\n",
    "순전파는 계산 그래프의 출발점부터 종착점으로 전파이다.\n",
    "\n",
    "이 반대의 과정을 역전파라고 한다.\n",
    "\n",
    "#### 국소적 계산\n",
    "\n",
    "전에 어떠한 계산이 이루어졌는지는 관심이 없고 오로지 2개의 edge와 하나의 node의 계산에만 focus..!\n",
    "\n",
    "따라서 하나의 계산을 할 때, 해당 계산외에는 신경 쓸 게 없다.\n",
    "\n",
    "\n",
    "#### 왜 그래프로 풀까?\n",
    "\n",
    "국소적 계산으로 전체가 아무리 복잡해도 각 노드에서 단순한 계산에 집중하여 문제를 단순화할 수 있다. 더하여 \n",
    "계산 그래프는 중간 계산 결과를 모두 보관할 수 있다. 하지만 가장 큰 이유로는 역전파를 통한 미분을 효율적으로 계산할 수 있다.\n",
    "\n",
    "### 연쇄법칙 chain rule\n",
    "\n",
    "'국소적 미분'을 전달하는 원리는 연쇄법칙에 따른 것이다. \n",
    "\n",
    "연쇄법칙의 원리로는\n",
    "\n",
    "'합성 함수의 미분은 합성 함수를 구성하는 각 함수의 미분의 곱으로 나타낼 수 있다'\n",
    "\n",
    "\n",
    "덧셈에서의 역전파는 입력 신호를 다음 노드로 출력할 뿐이고 상류(두 노드의 계산결과)에서 오는 값을 하류(두 노드)에 전달한다.\n",
    "\n"
   ]
  },
  {
   "cell_type": "markdown",
   "metadata": {},
   "source": [
    "### 단순한 계층 구현하기\n",
    "\n",
    "#### 1.곱셈 계층\n",
    "\n",
    "모든 계층은 forward, backward를 공통의 method로 갖도록 구현!\n",
    "\n"
   ]
  },
  {
   "cell_type": "code",
   "execution_count": 1,
   "metadata": {},
   "outputs": [],
   "source": [
    "class MultiLayer:\n",
    "    def __init__(self):\n",
    "        self.x=None\n",
    "        self.y=None\n",
    "        \n",
    "    def forward(self,x,y):\n",
    "        self.x=x\n",
    "        self.y=y\n",
    "        out=x*y\n",
    "        \n",
    "        return out\n",
    "    \n",
    "    def backward(self,dout):\n",
    "        dx=dout*self.y\n",
    "        dy=dout*self.x\n",
    "        \n",
    "        return dx,dy\n",
    "    \n",
    "\n",
    "        "
   ]
  },
  {
   "cell_type": "code",
   "execution_count": 3,
   "metadata": {},
   "outputs": [
    {
     "name": "stdout",
     "output_type": "stream",
     "text": [
      "220.00000000000003\n"
     ]
    }
   ],
   "source": [
    "apple=100\n",
    "apple_num=2\n",
    "tax=1.1\n",
    "\n",
    "mul_apple_layer=MultiLayer()\n",
    "mul_tax_layer=MultiLayer()\n",
    "\n",
    "#forward\n",
    "apple_price=mul_apple_layer.forward(apple,apple_num)\n",
    "price=mul_tax_layer.forward(apple_price,tax)\n",
    "\n",
    "print(price)\n",
    "\n"
   ]
  },
  {
   "cell_type": "code",
   "execution_count": 4,
   "metadata": {},
   "outputs": [],
   "source": [
    "class AddLayer:\n",
    "    def __init__(self):\n",
    "        pass\n",
    "    def forward(self,x,y):\n",
    "        out=x+y\n",
    "        return out\n",
    "    def backward(self,dout):\n",
    "        dx=dout*1\n",
    "        dy=dout*1\n",
    "        return dx,dy\n",
    "    \n",
    "    "
   ]
  },
  {
   "cell_type": "code",
   "execution_count": 8,
   "metadata": {},
   "outputs": [
    {
     "name": "stdout",
     "output_type": "stream",
     "text": [
      "715.0000000000001\n",
      "110.00000000000001 2.2 3.3000000000000003 165.0 650\n"
     ]
    }
   ],
   "source": [
    "\n",
    "# init\n",
    "apple=100\n",
    "apple_num=2\n",
    "orange=150\n",
    "orange_num=3\n",
    "tax=1.1\n",
    "\n",
    "#layers\n",
    "mul_apple_layer=MultiLayer()\n",
    "mul_orange_layer=MultiLayer()\n",
    "add_apple_orange_layer=AddLayer()\n",
    "mul_tax_layer=MultiLayer()\n",
    "\n",
    "#순전파\n",
    "apple_price = mul_apple_layer.forward(apple,apple_num)\n",
    "orange_price = mul_orange_layer.forward(orange,orange_num)\n",
    "all_price=add_apple_orange_layer.forward(apple_price,orange_price)\n",
    "price=mul_tax_layer.forward(all_price,tax)\n",
    "\n",
    "#역전파\n",
    "dprice=1\n",
    "dall_price,dtax=mul_tax_layer.backward(dprice)\n",
    "dapple_price,dorange_price=add_apple_orange_layer.backward(dall_price)\n",
    "dorange,dorange_num=mul_orange_layer.backward(dorange_price)\n",
    "dapple,dapple_num=mul_apple_layer.backward(dapple_price)\n",
    "\n",
    "print(price)\n",
    "print(dapple_num,dapple,dorange,dorange_num,dtax)\n",
    "\n",
    "\n",
    "\n",
    "\n"
   ]
  },
  {
   "cell_type": "code",
   "execution_count": null,
   "metadata": {},
   "outputs": [],
   "source": []
  }
 ],
 "metadata": {
  "kernelspec": {
   "display_name": "Python 3",
   "language": "python",
   "name": "python3"
  },
  "language_info": {
   "codemirror_mode": {
    "name": "ipython",
    "version": 3
   },
   "file_extension": ".py",
   "mimetype": "text/x-python",
   "name": "python",
   "nbconvert_exporter": "python",
   "pygments_lexer": "ipython3",
   "version": "3.7.2"
  }
 },
 "nbformat": 4,
 "nbformat_minor": 4
}
